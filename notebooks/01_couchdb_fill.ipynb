{
 "cells": [
  {
   "cell_type": "code",
   "execution_count": null,
   "metadata": {},
   "outputs": [],
   "source": [
    "from ansible_data import *"
   ]
  },
  {
   "cell_type": "code",
   "execution_count": null,
   "metadata": {},
   "outputs": [],
   "source": [
    "# datetime object containing current date and time\n",
    "now = str(datetime.now().replace(second=0, microsecond=0))\n",
    "\n",
    "docs = [    \n",
    "    {'doc_type': 'users', 'key': 'alice', 'name': 'Alice Appleworth', 'state': 'present', 'telephone': '123-456-7890'},\n",
    "    {'doc_type': 'users', 'key': 'bob', 'name': 'Bob Bananarama', 'state': 'present', 'telephone': '987-654-3210'},\n",
    "    {'doc_type': 'users', 'key': 'carlos', 'name': 'Carlos Carrot', 'state': 'absent', 'telephone': '555-123-6789'},\n",
    "    {'doc_type': 'fruit', 'key': 'pineapple', 'state': 'present', 'color': 'yellow'}\n",
    "    ]\n",
    "\n",
    "for (success, doc_id, revision_or_exception) in getdb('mydb').update(docs):\n",
    "    print(success, doc_id, revision_or_exception)"
   ]
  },
  {
   "cell_type": "code",
   "execution_count": null,
   "metadata": {},
   "outputs": [],
   "source": [
    "listdocs()"
   ]
  },
  {
   "cell_type": "code",
   "execution_count": null,
   "metadata": {},
   "outputs": [],
   "source": [
    "rows = getdb('mydb').view('_all_docs', include_docs=True)\n",
    "index = []\n",
    "for row in rows:\n",
    "    if row['doc']['doc_type'] not in index:\n",
    "        index.append(row['doc']['doc_type'])\n",
    "\n",
    "output = []\n",
    "for i in index:\n",
    "    docs = [row['doc'] for row in rows if row['doc']['doc_type'] == i]\n",
    "    dict = {}\n",
    "    dict[i] = docs\n",
    "    output.append(dict)\n",
    "\n",
    "pprint(output)"
   ]
  },
  {
   "cell_type": "code",
   "execution_count": null,
   "metadata": {},
   "outputs": [],
   "source": [
    "dumpdata()"
   ]
  },
  {
   "cell_type": "code",
   "execution_count": null,
   "metadata": {},
   "outputs": [],
   "source": [
    "# import pprint\n",
    "# with open('roles/demo/vars/main/couch_vars.yml', 'w') as f:\n",
    "#     f.write(\"---\" + '\\n')\n",
    "#     for var in output:\n",
    "#         for key, value in var.items():\n",
    "#             f.write(key + \": \" + pprint.pformat(value) + '\\n' * 2)\n",
    "#     f.close()"
   ]
  },
  {
   "cell_type": "code",
   "execution_count": null,
   "metadata": {},
   "outputs": [],
   "source": [
    "# import yaml\n",
    "# with open('roles/demo/vars/main/couch_vars.yml', 'w') as yaml_file:\n",
    "#     yaml.dump(output, stream=yaml_file, default_flow_style=False)"
   ]
  },
  {
   "cell_type": "code",
   "execution_count": null,
   "metadata": {},
   "outputs": [],
   "source": [
    "# import yaml\n",
    "# with open('roles/demo/vars/main/couch_vars.yml', 'r') as yaml_file:\n",
    "#     dictionary = yaml.load(yaml_file)\n",
    "# pprint(dictionary)"
   ]
  },
  {
   "cell_type": "code",
   "execution_count": null,
   "metadata": {},
   "outputs": [],
   "source": [
    "%%bash\n",
    "ls -larth ./roles/demo/vars/main"
   ]
  },
  {
   "cell_type": "code",
   "execution_count": null,
   "metadata": {},
   "outputs": [],
   "source": [
    "%%bash\n",
    "cat ./roles/demo/vars/main/couch_vars.yml"
   ]
  }
 ],
 "metadata": {
  "kernelspec": {
   "display_name": "Python 3",
   "language": "python",
   "name": "python3"
  },
  "language_info": {
   "codemirror_mode": {
    "name": "ipython",
    "version": 3
   },
   "file_extension": ".py",
   "mimetype": "text/x-python",
   "name": "python",
   "nbconvert_exporter": "python",
   "pygments_lexer": "ipython3",
   "version": "3.8.0"
  }
 },
 "nbformat": 4,
 "nbformat_minor": 2
}
