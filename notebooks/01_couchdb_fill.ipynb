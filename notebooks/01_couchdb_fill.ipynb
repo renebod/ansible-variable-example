{
 "cells": [
  {
   "cell_type": "code",
   "execution_count": null,
   "metadata": {},
   "outputs": [],
   "source": [
    "from ansible_data import *\n",
    "\n",
    "# datetime object containing current date and time\n",
    "now = str(datetime.now().replace(second=0, microsecond=0))\n",
    "pwd = crypt.crypt(\"secret123\", \"$1$SomeSalt$\")\n",
    "\n",
    "\n",
    "docs = [    \n",
    "    {'doc_type': 'users', 'key': 'alice', 'name': 'Alice Appleworth', 'password': pwd, 'state': 'present', 'telephone': '123-456-7890'},\n",
    "    {'doc_type': 'users', 'key': 'bob', 'name': 'Bob Bananarama', 'password': pwd, 'state': 'present', 'telephone': '987-654-3210'},\n",
    "    {'doc_type': 'users', 'key': 'carlos', 'name': 'Carlos Carrot', 'password': pwd, 'state': 'absent', 'telephone': '555-123-6789'},\n",
    "    {'doc_type': 'fruit', 'key': 'pineapple', 'state': 'present', 'color': 'yellow'}\n",
    "    ]\n",
    "\n",
    "for (success, doc_id, revision_or_exception) in getdb('mydb').update(docs):\n",
    "    print(success, doc_id, revision_or_exception)"
   ]
  },
  {
   "cell_type": "code",
   "execution_count": null,
   "metadata": {},
   "outputs": [],
   "source": [
    "listdocs()"
   ]
  },
  {
   "cell_type": "code",
   "execution_count": null,
   "metadata": {},
   "outputs": [],
   "source": [
    "rows = getdb('mydb').view('_all_docs', include_docs=True)\n",
    "\n",
    "output = []\n",
    "for i in set([row['doc']['doc_type'] for row in rows]):\n",
    "    output.append({i : [row['doc'] for row in rows if row['doc']['doc_type'] == i]})\n",
    "\n",
    "print(json.dumps(output, indent=4, sort_keys=True))\n",
    "dumpdata()"
   ]
  }
 ],
 "metadata": {
  "kernelspec": {
   "display_name": "Python 3 (ipykernel)",
   "language": "python",
   "name": "python3"
  },
  "language_info": {
   "codemirror_mode": {
    "name": "ipython",
    "version": 3
   },
   "file_extension": ".py",
   "mimetype": "text/x-python",
   "name": "python",
   "nbconvert_exporter": "python",
   "pygments_lexer": "ipython3",
   "version": "3.8.20"
  }
 },
 "nbformat": 4,
 "nbformat_minor": 4
}
