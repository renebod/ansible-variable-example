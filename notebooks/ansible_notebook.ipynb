{
 "cells": [
  {
   "cell_type": "markdown",
   "metadata": {},
   "source": [
    "# Ansible Jupyter Kernel - APT TEST\n",
    "\n",
    "Runs a task using Ansible.\n",
    "\n",
    "Press shift-enter to run the task.\n",
    "\n",
    "Press shift-tab to get task docs.  Press the ^ icon to expand the docs."
   ]
  },
  {
   "cell_type": "code",
   "execution_count": 5,
   "metadata": {},
   "outputs": [],
   "source": [
    "#ansible.cfg\n",
    "[defaults]\n",
    "host_key_checking=False\n",
    "ansible_user=demo\n",
    "ansible_ssh_pass=secret123"
   ]
  },
  {
   "cell_type": "code",
   "execution_count": 6,
   "metadata": {},
   "outputs": [],
   "source": [
    "#inventory\n",
    "[all]\n",
    "ubuntu     ansible_connection=ssh        ansible_user=demo"
   ]
  },
  {
   "cell_type": "code",
   "execution_count": null,
   "metadata": {
    "scrolled": false
   },
   "outputs": [],
   "source": [
    "#play\n",
    "name: hello world\n",
    "hosts: ubuntu\n",
    "gather_facts: false\n",
    "  \n",
    "apt:\n",
    "  update_cache: yes"
   ]
  },
  {
   "cell_type": "code",
   "execution_count": null,
   "metadata": {},
   "outputs": [],
   "source": [
    "# #task\n",
    "# debug:\n",
    "#  msg: Hello World"
   ]
  },
  {
   "cell_type": "code",
   "execution_count": 8,
   "metadata": {},
   "outputs": [
    {
     "name": "stdout",
     "output_type": "stream",
     "text": [
      "No play found. Run a valid play cell"
     ]
    }
   ],
   "source": [
    "- name: My First Playbook\n",
    "  connection: ssh\n",
    "  gather_facts: false\n",
    "  hosts: all\n",
    "  tasks:\n",
    "\n",
    "    - name: Apt Cache Update\n",
    "      apt:\n",
    "        update_cache: all\n",
    "\n",
    "#     - name: Display the config\n",
    "#       debug:\n",
    "#         msg: \"The hostname is {{ ansible_net_hostname }} and the OS is {{ ansible_net_version }}\""
   ]
  },
  {
   "cell_type": "code",
   "execution_count": 10,
   "metadata": {},
   "outputs": [
    {
     "name": "stdout",
     "output_type": "stream",
     "text": [
      "No play found. Run a valid play cell"
     ]
    }
   ],
   "source": [
    "hosts: ubuntu\n",
    "gather_facts: false\n",
    "\n",
    "apt:\n",
    "  update_cache: all"
   ]
  },
  {
   "cell_type": "code",
   "execution_count": 12,
   "metadata": {},
   "outputs": [],
   "source": [
    "from ansible.executor.playbook_executor import PlaybookExecutor"
   ]
  },
  {
   "cell_type": "code",
   "execution_count": 25,
   "metadata": {},
   "outputs": [
    {
     "ename": "ImportError",
     "evalue": "cannot import name 'callbacks' from 'ansible' (/opt/conda/lib/python3.7/site-packages/ansible/__init__.py)",
     "output_type": "error",
     "traceback": [
      "\u001b[0;31m---------------------------------------------------------------------------\u001b[0m",
      "\u001b[0;31mImportError\u001b[0m                               Traceback (most recent call last)",
      "\u001b[0;32m<ipython-input-25-185bd4c71f95>\u001b[0m in \u001b[0;36m<module>\u001b[0;34m\u001b[0m\n\u001b[0;32m----> 1\u001b[0;31m \u001b[0;32mfrom\u001b[0m \u001b[0mrun_playbook\u001b[0m \u001b[0;32mimport\u001b[0m \u001b[0;34m*\u001b[0m\u001b[0;34m\u001b[0m\u001b[0;34m\u001b[0m\u001b[0m\n\u001b[0m",
      "\u001b[0;32m~/run_playbook.py\u001b[0m in \u001b[0;36m<module>\u001b[0;34m\u001b[0m\n\u001b[0;32m----> 1\u001b[0;31m \u001b[0;32mfrom\u001b[0m \u001b[0mansible\u001b[0m \u001b[0;32mimport\u001b[0m \u001b[0mplaybook\u001b[0m\u001b[0;34m,\u001b[0m \u001b[0mcallbacks\u001b[0m\u001b[0;34m\u001b[0m\u001b[0;34m\u001b[0m\u001b[0m\n\u001b[0m\u001b[1;32m      2\u001b[0m \u001b[0;32mimport\u001b[0m \u001b[0mlogging\u001b[0m\u001b[0;34m\u001b[0m\u001b[0;34m\u001b[0m\u001b[0m\n\u001b[1;32m      3\u001b[0m \u001b[0;32mimport\u001b[0m \u001b[0mpprint\u001b[0m\u001b[0;34m\u001b[0m\u001b[0;34m\u001b[0m\u001b[0m\n\u001b[1;32m      4\u001b[0m \u001b[0;34m\u001b[0m\u001b[0m\n\u001b[1;32m      5\u001b[0m \u001b[0;34m\u001b[0m\u001b[0m\n",
      "\u001b[0;31mImportError\u001b[0m: cannot import name 'callbacks' from 'ansible' (/opt/conda/lib/python3.7/site-packages/ansible/__init__.py)"
     ]
    }
   ],
   "source": [
    "from run_playbook import *"
   ]
  },
  {
   "cell_type": "code",
   "execution_count": 26,
   "metadata": {},
   "outputs": [
    {
     "ename": "ImportError",
     "evalue": "cannot import name 'callbacks' from 'ansible' (/opt/conda/lib/python3.7/site-packages/ansible/__init__.py)",
     "output_type": "error",
     "traceback": [
      "\u001b[0;31m---------------------------------------------------------------------------\u001b[0m",
      "\u001b[0;31mImportError\u001b[0m                               Traceback (most recent call last)",
      "\u001b[0;32m<ipython-input-26-fe605690422e>\u001b[0m in \u001b[0;36m<module>\u001b[0;34m\u001b[0m\n\u001b[0;32m----> 1\u001b[0;31m \u001b[0;32mfrom\u001b[0m \u001b[0mansible\u001b[0m \u001b[0;32mimport\u001b[0m \u001b[0mplaybook\u001b[0m\u001b[0;34m,\u001b[0m \u001b[0mcallbacks\u001b[0m\u001b[0;34m\u001b[0m\u001b[0;34m\u001b[0m\u001b[0m\n\u001b[0m\u001b[1;32m      2\u001b[0m \u001b[0;32mimport\u001b[0m \u001b[0mlogging\u001b[0m\u001b[0;34m\u001b[0m\u001b[0;34m\u001b[0m\u001b[0m\n\u001b[1;32m      3\u001b[0m \u001b[0;32mimport\u001b[0m \u001b[0mpprint\u001b[0m\u001b[0;34m\u001b[0m\u001b[0;34m\u001b[0m\u001b[0m\n",
      "\u001b[0;31mImportError\u001b[0m: cannot import name 'callbacks' from 'ansible' (/opt/conda/lib/python3.7/site-packages/ansible/__init__.py)"
     ]
    }
   ],
   "source": [
    "from ansible import playbook, callbacks\n",
    "import logging\n",
    "import pprint\n"
   ]
  },
  {
   "cell_type": "code",
   "execution_count": 28,
   "metadata": {},
   "outputs": [
    {
     "ename": "ModuleNotFoundError",
     "evalue": "No module named 'task'",
     "output_type": "error",
     "traceback": [
      "\u001b[0;31m---------------------------------------------------------------------------\u001b[0m",
      "\u001b[0;31mModuleNotFoundError\u001b[0m                       Traceback (most recent call last)",
      "\u001b[0;32m<ipython-input-28-aa86705b330d>\u001b[0m in \u001b[0;36m<module>\u001b[0;34m\u001b[0m\n\u001b[0;32m----> 1\u001b[0;31m \u001b[0;32mfrom\u001b[0m \u001b[0mtask\u001b[0m \u001b[0;32mimport\u001b[0m \u001b[0mRunner\u001b[0m\u001b[0;34m\u001b[0m\u001b[0;34m\u001b[0m\u001b[0m\n\u001b[0m\u001b[1;32m      2\u001b[0m \u001b[0;31m# You may want this to run as user root instead\u001b[0m\u001b[0;34m\u001b[0m\u001b[0;34m\u001b[0m\u001b[0;34m\u001b[0m\u001b[0m\n\u001b[1;32m      3\u001b[0m \u001b[0;31m# or make this an environmental variable, or\u001b[0m\u001b[0;34m\u001b[0m\u001b[0;34m\u001b[0m\u001b[0;34m\u001b[0m\u001b[0m\n\u001b[1;32m      4\u001b[0m \u001b[0;31m# a CLI prompt. Whatever you want!\u001b[0m\u001b[0;34m\u001b[0m\u001b[0;34m\u001b[0m\u001b[0;34m\u001b[0m\u001b[0m\n\u001b[1;32m      5\u001b[0m \u001b[0mbecome_user_password\u001b[0m \u001b[0;34m=\u001b[0m \u001b[0;34m'foo-whatever'\u001b[0m\u001b[0;34m\u001b[0m\u001b[0;34m\u001b[0m\u001b[0m\n",
      "\u001b[0;31mModuleNotFoundError\u001b[0m: No module named 'task'"
     ]
    }
   ],
   "source": [
    "from task import Runner\n",
    "# You may want this to run as user root instead\n",
    "# or make this an environmental variable, or\n",
    "# a CLI prompt. Whatever you want!\n",
    "become_user_password = 'foo-whatever' \n",
    "run_data: {\n",
    "    'user_id': 12345,\n",
    "    'foo': 'bar',\n",
    "    'baz': 'cux-or-whatever-this-one-is'\n",
    "}\n",
    "\n",
    "runner = task.Runner(\n",
    "    hostnames='localhost',\n",
    "    playbook='playbook.yaml',\n",
    "    private_key='/home/user/.ssh/id_whatever',\n",
    "    run_data=run_data,\n",
    "    become_pass=become_user_password, \n",
    "    verbosity=0\n",
    ")\n",
    "\n",
    "stats = runner.run()\n",
    "\n",
    "# Maybe do something with stats here? If you want!\n",
    "\n",
    "return stats"
   ]
  },
  {
   "cell_type": "code",
   "execution_count": null,
   "metadata": {},
   "outputs": [],
   "source": []
  }
 ],
 "metadata": {
  "kernelspec": {
   "display_name": "Python 3",
   "language": "python",
   "name": "python3"
  },
  "language_info": {
   "codemirror_mode": {
    "name": "ipython",
    "version": 3
   },
   "file_extension": ".py",
   "mimetype": "text/x-python",
   "name": "python",
   "nbconvert_exporter": "python",
   "pygments_lexer": "ipython3",
   "version": "3.7.3"
  }
 },
 "nbformat": 4,
 "nbformat_minor": 2
}
