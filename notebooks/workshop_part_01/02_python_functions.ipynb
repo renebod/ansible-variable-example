{
 "cells": [
  {
   "cell_type": "markdown",
   "metadata": {},
   "source": [
    "![title](../images/python.jpg)"
   ]
  },
  {
   "cell_type": "markdown",
   "metadata": {},
   "source": [
    "# Python Functies\n",
    "\n",
    "De kracht van herhaling en het voorkomen van wildgroei in code.\n",
    "\n",
    "_Press control-enter to run the task._"
   ]
  },
  {
   "cell_type": "code",
   "execution_count": null,
   "metadata": {},
   "outputs": [],
   "source": [
    "def ditiseenfunctie():\n",
    "    print(\"Hello World\")\n",
    "\n",
    "ditiseenfunctie()"
   ]
  },
  {
   "cell_type": "markdown",
   "metadata": {},
   "source": [
    "### Functies kunnen steeds hetzelfde doen"
   ]
  },
  {
   "cell_type": "code",
   "execution_count": null,
   "metadata": {},
   "outputs": [],
   "source": [
    "def nieuwefunctiegetal():\n",
    "    getal = 5 * 12\n",
    "    return getal\n",
    "\n",
    "print(nieuwefunctiegetal())"
   ]
  },
  {
   "cell_type": "markdown",
   "metadata": {},
   "source": [
    "### De kracht van functies zit in het variabel kunnen gebruiken van een geisoleerd stuk code."
   ]
  },
  {
   "cell_type": "markdown",
   "metadata": {},
   "source": [
    "![omtrek](../images/omtrekcirkel.png)"
   ]
  },
  {
   "cell_type": "markdown",
   "metadata": {},
   "source": [
    "#### probeer onderstaand voorbeeld te lezen"
   ]
  },
  {
   "cell_type": "code",
   "execution_count": null,
   "metadata": {},
   "outputs": [],
   "source": [
    "import math\n",
    "\n",
    "def omtrekcirkel(d):\n",
    "    return math.pi * int(d)\n",
    "\n",
    "diameter = input(\"Wat is de diameter? \")\n",
    "\n",
    "omtrek = omtrekcirkel(diameter)\n",
    "\n",
    "print(\"Als de diameter \" + str(diameter) + \" is, dan is de omtrek \" + str(omtrek))\n"
   ]
  },
  {
   "cell_type": "markdown",
   "metadata": {},
   "source": [
    "### We hebben variabelen in Python, functies houden van variabelen"
   ]
  },
  {
   "cell_type": "code",
   "execution_count": null,
   "metadata": {},
   "outputs": [],
   "source": [
    "def divide(a,b):\n",
    "    return a/b\n",
    "\n",
    "divide(30,6)"
   ]
  },
  {
   "cell_type": "markdown",
   "metadata": {},
   "source": [
    "### Functies breken lange stukken code op\n",
    "Om te vermijden dat blokken code te lang worden maken we gebruik van functies"
   ]
  },
  {
   "cell_type": "markdown",
   "metadata": {},
   "source": [
    "![function](../images/function.jpg)"
   ]
  },
  {
   "cell_type": "markdown",
   "metadata": {},
   "source": [
    "#### zonder functie"
   ]
  },
  {
   "cell_type": "code",
   "execution_count": null,
   "metadata": {},
   "outputs": [],
   "source": [
    "import random\n",
    "\n",
    "# Voor toegang gebruiken gebruiken we een token\n",
    "gebruikersnaam = \"admin\"\n",
    "wachtwoord = \"password\"\n",
    "if gebruikersnaam == \"admin\":\n",
    "    if wachtwoord == \"password\":\n",
    "        token = 3292737566906332\n",
    "boek = \"Ontdekking van de Hemel\"\n",
    "bestelnummer = \"7430266902665\"\n",
    "boekbesteld = True\n",
    "if boekbesteld == True:\n",
    "    print(\"Uw boek \" + boek + \" is besteld en is onderweg\")\n"
   ]
  },
  {
   "cell_type": "markdown",
   "metadata": {},
   "source": [
    "#### eerste functie . . . gettoken()"
   ]
  },
  {
   "cell_type": "code",
   "execution_count": null,
   "metadata": {},
   "outputs": [],
   "source": [
    "def gettoken():\n",
    "    pass"
   ]
  },
  {
   "cell_type": "markdown",
   "metadata": {},
   "source": [
    "#### tweede functie . . . orderbook()"
   ]
  },
  {
   "cell_type": "code",
   "execution_count": null,
   "metadata": {},
   "outputs": [],
   "source": [
    "def orderbook():\n",
    "    pass"
   ]
  },
  {
   "cell_type": "markdown",
   "metadata": {},
   "source": [
    "#### roep de functies aan"
   ]
  },
  {
   "cell_type": "code",
   "execution_count": null,
   "metadata": {},
   "outputs": [],
   "source": [
    "gebruikersnaam = input(\"Geef de gebruikersnaam op: \")\n",
    "wachtwoord = input(\"Geef het wachtwoord op: \")\n",
    "\n",
    "gettoken(gebruikersnaam, wachtwoord)\n",
    "orderbook(bestelnummer)"
   ]
  },
  {
   "cell_type": "markdown",
   "metadata": {},
   "source": [
    "### Documenteren doen we binnen de functies"
   ]
  },
  {
   "cell_type": "code",
   "execution_count": null,
   "metadata": {},
   "outputs": [],
   "source": [
    "def berekengetal(a,b):\n",
    "    '''\n",
    "    Deze functie pakt de waarde van getal a en vermenigvuldigd deze met de waarde van b.\n",
    "    '''\n",
    "    return a * b\n",
    "\n",
    "berekengetal(4,77)"
   ]
  },
  {
   "cell_type": "markdown",
   "metadata": {},
   "source": [
    "#### code commentaar kan ook binnen de code regels"
   ]
  },
  {
   "cell_type": "code",
   "execution_count": null,
   "metadata": {},
   "outputs": [],
   "source": [
    "naam = input(\"Geef naam op: \") # hier wordt de naam aan de gebruiker gevraagd\n",
    "\n",
    "print(\"Hallo \" + naam)"
   ]
  }
 ],
 "metadata": {
  "kernelspec": {
   "display_name": "Python 3",
   "language": "python",
   "name": "python3"
  },
  "language_info": {
   "codemirror_mode": {
    "name": "ipython",
    "version": 3
   },
   "file_extension": ".py",
   "mimetype": "text/x-python",
   "name": "python",
   "nbconvert_exporter": "python",
   "pygments_lexer": "ipython3",
   "version": "3.8.0"
  }
 },
 "nbformat": 4,
 "nbformat_minor": 2
}
