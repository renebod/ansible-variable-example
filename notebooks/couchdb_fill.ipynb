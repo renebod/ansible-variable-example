{
 "cells": [
  {
   "cell_type": "code",
   "execution_count": null,
   "metadata": {},
   "outputs": [],
   "source": [
    "import couchdb\n",
    "from pprint import pprint\n",
    "from datetime import datetime"
   ]
  },
  {
   "cell_type": "code",
   "execution_count": null,
   "metadata": {},
   "outputs": [],
   "source": [
    "user = \"admin\"\n",
    "password = \"password\"\n",
    "couchserver = couchdb.Server(\"http://%s:%s@couchdb:5984/\" % (user, password))"
   ]
  },
  {
   "cell_type": "code",
   "execution_count": null,
   "metadata": {},
   "outputs": [],
   "source": [
    "dbname = \"mydb\"\n",
    "del couchserver[dbname]\n",
    "if dbname in couchserver:\n",
    "    db = couchserver[dbname]\n",
    "else:\n",
    "    db = couchserver.create(dbname)"
   ]
  },
  {
   "cell_type": "code",
   "execution_count": null,
   "metadata": {},
   "outputs": [],
   "source": [
    "for dbname in couchserver:\n",
    "    print(dbname)"
   ]
  },
  {
   "cell_type": "code",
   "execution_count": null,
   "metadata": {},
   "outputs": [],
   "source": [
    "# datetime object containing current date and time\n",
    "now = str(datetime.now().replace(second=0, microsecond=0))\n",
    "\n",
    "docs = [   \n",
    "    {'doc_type': 'category', 'name': 'users'},\n",
    "    {'doc_type': 'category', 'name': 'packages'},\n",
    "    \n",
    "    {'doc_type': 'users', 'key': 'alice', 'name': 'Alice Appleworth', 'state': 'present', 'telephone': '123-456-7890'},\n",
    "    {'doc_type': 'users', 'key': 'bob', 'name': 'Bob Bananarama', 'state': 'present', 'telephone': '987-654-3210'},\n",
    "    {'doc_type': 'users', 'key': 'carlos', 'name': 'Carlos Carrot', 'state': 'absent', 'telephone': '555-123-6789'},\n",
    "    \n",
    "    {'doc_type': 'packages', 'name': 'executive_lounge.example.com', 'state': 'present', 'date': now},\n",
    "    {'doc_type': 'pac_member', 'name': 'server1.example.com', 'state': 'present', 'parent': 'executive_lounge.example.com', 'date': now},\n",
    "    {'doc_type': 'pac_member', 'name': 'server1.example.com', 'state': 'present', 'parent': 'executive_lounge.example.com', 'date': now},\n",
    "    {'doc_type': 'packages', 'name': 'kitchen.example.com', 'state': 'present', 'date': now},\n",
    "    {'doc_type': 'packages', 'name': 'bedroom.example.com', 'state': 'present', 'date': now}]"
   ]
  },
  {
   "cell_type": "code",
   "execution_count": null,
   "metadata": {},
   "outputs": [],
   "source": [
    "for (success, doc_id, revision_or_exception) in db.update(docs):\n",
    "    print(success, doc_id, revision_or_exception)"
   ]
  },
  {
   "cell_type": "code",
   "execution_count": null,
   "metadata": {},
   "outputs": [],
   "source": [
    "rows = db.view('_all_docs', include_docs=True)\n",
    "objects = [row['doc'] for row in rows if row['doc']['doc_type'] == 'category']\n",
    "for o in objects:\n",
    "    print(o['doc_type'] + \" : \" + o['name'])\n",
    "    subobjects1 = [row['doc'] for row in rows if row['doc']['doc_type'] == o['name']]\n",
    "    o[o['name']] = subobjects1\n",
    "    for s1 in subobjects1:\n",
    "        print(\"  -> \" + s1['doc_type'] + \" : \" + s1['name'])\n",
    "        subobjects2 = [row['doc'] for row in rows if 'parent' in row['doc']]\n",
    "        subobjects2 = [i for i in subobjects2 if i['parent'] == s1['name']]\n",
    "        if subobjects2:\n",
    "            s1[s1['name']] = subobjects2\n",
    "            for s2 in subobjects2:\n",
    "                print(\"    -> \" + s2['doc_type'] + \" : \" + s2['name'])"
   ]
  },
  {
   "cell_type": "code",
   "execution_count": null,
   "metadata": {
    "scrolled": false
   },
   "outputs": [],
   "source": [
    "pprint(objects)"
   ]
  },
  {
   "cell_type": "code",
   "execution_count": null,
   "metadata": {},
   "outputs": [],
   "source": [
    "f = open(\"roles/demo/vars/main/couch_vars.yml\", \"w\")\n",
    "f.write(\"---\" + '\\n')\n",
    "for obj in objects:\n",
    "    var_name = obj['name']\n",
    "    var_content = obj[var_name]\n",
    "    f.write(var_name + \": \" + str(var_content) + '\\n' * 2)\n",
    "f.close()"
   ]
  },
  {
   "cell_type": "code",
   "execution_count": null,
   "metadata": {},
   "outputs": [],
   "source": [
    "%%bash\n",
    "ls -larth ./roles/demo/vars/main"
   ]
  },
  {
   "cell_type": "code",
   "execution_count": null,
   "metadata": {},
   "outputs": [],
   "source": [
    "%%bash\n",
    "cat ./roles/demo/vars/main/couch_vars.yml"
   ]
  }
 ],
 "metadata": {
  "kernelspec": {
   "display_name": "Python 3",
   "language": "python",
   "name": "python3"
  },
  "language_info": {
   "codemirror_mode": {
    "name": "ipython",
    "version": 3
   },
   "file_extension": ".py",
   "mimetype": "text/x-python",
   "name": "python",
   "nbconvert_exporter": "python",
   "pygments_lexer": "ipython3",
   "version": "3.8.0"
  }
 },
 "nbformat": 4,
 "nbformat_minor": 2
}
